{
 "cells": [
  {
   "cell_type": "code",
   "execution_count": 3,
   "id": "b6097516-5e27-4803-a233-ebb85629ea35",
   "metadata": {},
   "outputs": [
    {
     "name": "stdout",
     "output_type": "stream",
     "text": [
      "Script executado com sucesso!\n"
     ]
    }
   ],
   "source": [
    "#Este sinal serve para comentar um codigo para que o usuario saiba o que o codigo faz \n",
    "\"\"\"\n",
    "Usando 3 aspas podemos \n",
    "comentar varias linhas\n",
    "assim quando o codigo for executado o script pula essas linhas \n",
    "\"\"\"\n",
    "\n",
    "print (\"Script executado com sucesso!\")\n"
   ]
  },
  {
   "cell_type": "code",
   "execution_count": null,
   "id": "14432863-86bf-4f12-9234-2efb7772ba0c",
   "metadata": {},
   "outputs": [],
   "source": []
  }
 ],
 "metadata": {
  "kernelspec": {
   "display_name": "Python 3 (ipykernel)",
   "language": "python",
   "name": "python3"
  },
  "language_info": {
   "codemirror_mode": {
    "name": "ipython",
    "version": 3
   },
   "file_extension": ".py",
   "mimetype": "text/x-python",
   "name": "python",
   "nbconvert_exporter": "python",
   "pygments_lexer": "ipython3",
   "version": "3.12.4"
  }
 },
 "nbformat": 4,
 "nbformat_minor": 5
}
